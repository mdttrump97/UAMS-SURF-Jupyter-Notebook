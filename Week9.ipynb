{
 "cells": [
  {
   "cell_type": "markdown",
   "metadata": {},
   "source": [
    "# Week 9\n",
    "## Monday/Tuesday July 16/17\n",
    "I worked on finishing up my poster and cleaning up my code. I renamed multigenomeCSVGenerator.py to be kmerSelector.py, and an updated workflow diagram is provided below.\n",
    "\n",
    "![workflow](images/w9/workflow.png)"
   ]
  },
  {
   "cell_type": "markdown",
   "metadata": {},
   "source": [
    "## Wednesday July 18\n",
    "Today, I updated canopyClustering.py using Kaleb's revisions and ran it to time it and test it. Clustering the medioid dataset top 6 3-mers took around 11 minutes, while clustering the top 9 3-mers took 14:18.87."
   ]
  },
  {
   "cell_type": "markdown",
   "metadata": {},
   "source": [
    "## Thursday July 19\n",
    "Today, I ran the program all the way through with a different set of 14 *E. coli* and *Shigella spp.* genomes. \n",
    "Accessions: GCA_000008865, GCA_000006925, GCA_000092525, GCA_000012005, GCA_000012025, GCA_000026325, GCA_000026345, GCA_000005845, GCA_000183345, GCA_000010485, GCA_000010765, GCA_000208485, GCA_000163195, GCA_000176695\n",
    "\n",
    "The program took around 40 minutes to run (I was timing it, but I ran into unexpected issues that I had to resolve). \n",
    "Results:\n",
    "100% core cut-off pan-genome:\n",
    "![100](images/w9/14_genome_3mer_top_9_0.5_100core.png)\n",
    "\n",
    "90% core cut-off pan-genome:\n",
    "![90](images/w9/14_genome_3mer_top_9_0.5_90core.png)\n"
   ]
  },
  {
   "cell_type": "markdown",
   "metadata": {},
   "source": [
    "I then ran the code for 14 *Shigella spp.* genomes (it only took 29 minutes!), and I got interesting results. \n",
    "Accessions: GCA_000006925, GCA_000092525, GCA_000012005, GCA_000012025, GCA_000168075, GCA_000193915, GCA_000020185, GCA_000193895, GCA_000013585, GCA_000022245, GCA_000183785, GCA_000193935, GCA_000164925, GCA_000188795\n",
    "![shigella results](images/w9/shigella_3mer_top_9_0.5_100core.png)\n",
    "\n",
    "I also ran the code for 20 *E. coli* genomes from phylotype A:\n",
    "Accessions: GCA_000005845, GCA_000022345, GCA_000023365, GCA_000023665, GCA_000146735, GCA_000164335, GCA_000165655, GCA_000166595, GCA_000167915, GCA_000168095, GCA_000176535, GCA_000184765, GCA_000190815, GCA_000190835, GCA_000190975, GCA_000191015, GCA_000194535, GCA_000194555, GCA_000194645, GCA_000194705\n",
    "![phylotypeA results](images/w9/phylotypeA_3mer_top_9_0.5_100core.png)\n"
   ]
  },
  {
   "cell_type": "code",
   "execution_count": null,
   "metadata": {},
   "outputs": [],
   "source": []
  }
 ],
 "metadata": {
  "kernelspec": {
   "display_name": "Python 3",
   "language": "python",
   "name": "python3"
  },
  "language_info": {
   "codemirror_mode": {
    "name": "ipython",
    "version": 3
   },
   "file_extension": ".py",
   "mimetype": "text/x-python",
   "name": "python",
   "nbconvert_exporter": "python",
   "pygments_lexer": "ipython3",
   "version": "3.7.3"
  }
 },
 "nbformat": 4,
 "nbformat_minor": 2
}
