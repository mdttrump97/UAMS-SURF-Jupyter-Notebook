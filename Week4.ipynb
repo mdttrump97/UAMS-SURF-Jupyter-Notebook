{
 "cells": [
  {
   "cell_type": "markdown",
   "metadata": {},
   "source": [
    "# Week 4\n",
    "## Monday June 10, 2019:\n",
    "* change Multigenome_CSV_generator to make separate top 3 .csv files for each genome, then combine the smaller files together to try to improve runtime. (also run in terminal instead of spyder)\n",
    "\n",
    "I ended up modifying the file inputs and outputs of each program to support compressed file formats. I modified the kmer counting program to output the matrices in matrix market format which stores the coordinates of each data point and the value without storing any of the zeroes from the sparse matrix. Saving and loading these files instead of the large sparse count matrices greatly reduced runtime! \n",
    "\n",
    "## Tuesday June 11, 2019: \n",
    "* uploaded files to a new [github repository](https://github.com/mdttrump97/Kmer_pangenomes)\n",
    "\n",
    "Today I modified the Multigenome CSV generator to output a compressed matrix to be read into the canopy clustering algorithm. This will speed up file transfer between the two programs. Once I got the code working, I generated pangenome gene group summary plots for 10 genomes that were compared using their top 3, 4, and 5 most occurring 4mers. ![comparison](images/w4/10_genome_4mer_comparison.png)\n"
   ]
  },
  {
   "cell_type": "markdown",
   "metadata": {},
   "source": [
    "Grouping using the top 5 genomes had less gene groups, and the number of core gene groups was larger. I will report these groupings to Kaleb and Dr. Ussery and see what my next step should be."
   ]
  },
  {
   "cell_type": "code",
   "execution_count": null,
   "metadata": {},
   "outputs": [],
   "source": []
  }
 ],
 "metadata": {
  "kernelspec": {
   "display_name": "Python 3",
   "language": "python",
   "name": "python3"
  },
  "language_info": {
   "codemirror_mode": {
    "name": "ipython",
    "version": 3
   },
   "file_extension": ".py",
   "mimetype": "text/x-python",
   "name": "python",
   "nbconvert_exporter": "python",
   "pygments_lexer": "ipython3",
   "version": "3.7.3"
  }
 },
 "nbformat": 4,
 "nbformat_minor": 2
}
