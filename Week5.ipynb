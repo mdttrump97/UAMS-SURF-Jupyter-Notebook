{
 "cells": [
  {
   "cell_type": "markdown",
   "metadata": {},
   "source": [
    "# Week 5\n",
    "## Monday June 17, 2019\n",
    "Today, I worked on the canopy clustering code. I noticed that for some reason, the runs were not repeatable! After some investigation, I determined that the problem was in the list to set conversions. In python, sets are not ordered, and every list to set conversion seemed to mess up the list contents. Once I found a better way to avoid list to set typecasting, the program was repeatable again! As long as the list order is repeated when the program is run, it should give the same results! My code changes were committed to the [github repository](https://github.com/mdttrump97/Kmer_pangenomes)"
   ]
  },
  {
   "attachments": {},
   "cell_type": "markdown",
   "metadata": {},
   "source": [
    "## Tuesday June 18, 2019\n",
    "Today, I am going to get more controls for my graphs to see if the kmer selection is actually of benefit. I am starting out with the top 9 overall kmers first, and then I will compare that to the top 3 + top 3 FYWH + top 3 CM groupings. I was able to get those comparisons, and I also did a run with the top 15 overall k-mers compared to the top 5 (all) + top 5 FYWH + top 5 CM k-mers. Results to follow.\n",
    "\n",
    "\n",
    "## Wednesday June 19, 2019\n",
    "Today, I heavily worked on my presentation for the midsummer symposium. I also made some changes to the canopy clustering code; when I modified the program to separate paralogues, I had lost reproducibility. I found that the program would compare genes in a different order every time, giving different results. This lack of order was caused by python's set constructor. I had been converting lists to sets to use the .difference() method to remove dupicate entries from a list, but when a list is converted to a set, all list order is lost and the sequences seemed to get scrambled. To solve this problem, I found a better method to avoid creating a set of my ordered list, and now my results are reproducible. If I run the same analysis for my 10 genomes twice, I get the same pan-genome composition every time! I am glad that I discovered this error in my program and was able to fix it before continuing. I reran my previous results with the consistent program, so I will be reporting those when I have time to analyze the data generated. I will be more careful about checking my programs for consistency now!\n",
    "\n",
    "## Thursday June 20, 2019\n",
    "Today, I presented at the UAMS SURF Midsummer Symposium! My talk went really well, and I am glad that I was able to get more practice with public speaking. \n",
    "\n",
    "## Friday June 21, 2019: \n",
    "Today, there was a long ethics workshop in the morning that SURF program had provided, so I was not able to return to work until the afternoon. I then compiled my results for my 4-mer comparisons. All results were gotten via the workflow as described in week 4, using 4-mer counts of full amino acid alphabet k-mers, grouping genes with a cosine similarity distance less than 0.5, and using a core gene threshold of 0.9 for 10 E. coli genomes: \n",
    "* GCA_000019645.1_ASM1964v1\n",
    "* GCA_000012025.1_ASM1202v1\n",
    "* GCA_000012005.1_ASM1200v1\n",
    "* GCA_000010485.1_ASM1048v1\n",
    "* GCA_000010245.1_ASM1024v1\n",
    "* GCA_000008865.2_ASM886v2\n",
    "* GCA_000007445.1_ASM744v1\n",
    "* GCA_000006925.2_ASM692v2\n",
    "* GCA_000006665.1_ASM666v1\n",
    "* GCA_000005845.2_ASM584v2 \n",
    "![core](images/w5/core_gene_comparison.png)\n",
    "Here, we can see that the number of core genes increases as genes are represented by more k-mers, but it levels off at 6 k-mers and very slowly increases. The top 15 most occurrent k-mers gave the most core genes for the 10 genomes, and the criteria that included specified amino acids did increase the number of core genes compared to their top X most occurrent k-mer comparisons which served as controls. \n",
    "![groups](images/w5/gene_group_comparison.png)\n",
    "Here, the number of gene groups (genes that are considered separate) decreases as genes are represented by longer k-mer vectors. The lowest number of gene groups was again the top 15 most occurrent k-mers overall, and the specific amino acid criteria did not seem to group genes together any better. \n"
   ]
  },
  {
   "cell_type": "code",
   "execution_count": null,
   "metadata": {},
   "outputs": [],
   "source": []
  }
 ],
 "metadata": {
  "kernelspec": {
   "display_name": "Python 3",
   "language": "python",
   "name": "python3"
  },
  "language_info": {
   "codemirror_mode": {
    "name": "ipython",
    "version": 3
   },
   "file_extension": ".py",
   "mimetype": "text/x-python",
   "name": "python",
   "nbconvert_exporter": "python",
   "pygments_lexer": "ipython3",
   "version": "3.7.3"
  }
 },
 "nbformat": 4,
 "nbformat_minor": 2
}
