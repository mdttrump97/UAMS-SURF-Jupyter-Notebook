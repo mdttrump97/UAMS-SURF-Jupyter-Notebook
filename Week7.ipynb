{
 "cells": [
  {
   "cell_type": "markdown",
   "metadata": {},
   "source": [
    "# Week 7\n",
    "## Monday July 1, 2019\n",
    "Today, I reran the medioid dataset analyses using 3-mer counts instead of 4-mer counts. The 3-mer counts did a better job of grouping genes together; using the top 6 most occurrent 3-mers gave 11386 gene groups, with 2182 gene groups representing core genes. This is closer the 2700ish from the 10 genome dataset, but it is still low. \n",
    "\n",
    "Zulema is going to look into the gene groups that I have been generating to see what differences there are between my groups and the gene groups that are given by UCLUST for the 14 medioid genomes. \n",
    "\n",
    "## Tuesday July 2, 2019\n",
    "I am waiting for Zulema to check the groups, so I do not want to generate anymore test data using the same methods. Today, I will try to use principal component analysis/singular value decomposition to reduce the dimensions of my kmer count vectors and see if they still cluster well. \n",
    "\n",
    "**Well**\n",
    "I just discovered that I have been separating paralogues incorrectly. I had been using the protein ids without the protein numbers to represent the genome that a protein came from(for example: NKUW01000010.1_1 becomes NKUW01000010.1), but this does not take into account the changing contig names for a single genome file.\n",
    "For example, the NKUW genome has multiple contigs: \n",
    "* NKUW01000010.1\n",
    "* NKUW01000011.1\n",
    "* NKUW01000012.1, etc.\n",
    "\n",
    "The initial letters stay the same, but the numbers change with each contig. I have now modified my canopy clustering program (canopyClustering.py) to use the initial letters to know which genes come from which organism. That way, paralogues (genes that are duplicated in a genome) can be separated. \n",
    "\n",
    "## Wednesday July 3, 2019\n",
    "Today, I met with Kaleb and Zulema to check the results of my clusters. They compared my medioid top 6 3mer clusters with 80% length/80% sequence similiarity UCLUST clusters, and around 7000 of the clusters were identical! Now, they are working to see if they can find some kind of trend to describe what is happening to the other non-identical groups. Maybe UCLUST is not including a few groups in a cluster where my clustering is, or vice versa. They will work over the weekend to see if they can find anything. \n",
    "\n",
    "## Thursday July 4, 2019\n",
    "Fourth of July! (no work)\n",
    "\n",
    "## Friday July 5, 2019\n",
    "My family was in town, so Dr. Ussery let me have a day off. "
   ]
  },
  {
   "cell_type": "code",
   "execution_count": null,
   "metadata": {},
   "outputs": [],
   "source": []
  }
 ],
 "metadata": {
  "kernelspec": {
   "display_name": "Python 3",
   "language": "python",
   "name": "python3"
  },
  "language_info": {
   "codemirror_mode": {
    "name": "ipython",
    "version": 3
   },
   "file_extension": ".py",
   "mimetype": "text/x-python",
   "name": "python",
   "nbconvert_exporter": "python",
   "pygments_lexer": "ipython3",
   "version": "3.7.3"
  }
 },
 "nbformat": 4,
 "nbformat_minor": 2
}
