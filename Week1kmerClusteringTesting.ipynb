{
 "cells": [
  {
   "cell_type": "markdown",
   "metadata": {},
   "source": [
    "# Week 1:\n",
    "## Monday May 20, 2019:\n",
    "* First day!\n",
    "* Setup and luncheon\n",
    "* Researched Roary\n",
    "\n",
    "\n",
    "**Brief project history:**\n",
    "Thomas Pedersen was a UAMS PhD student who originally created FindMyFriends to be able to rapidly construct the pangenome (core and accessory genes) across multliple bacterial genomes quickly and accurately. The program first uses an algorithm called CD-Hit to quickly group the genes into broad groups, and then the gene clusters are split into smaller clusters based on k-mer similarity and neighboring sequences (to separate orthologues from paralogues). Once the genes are grouped, it can be determined to what degree certain genes are shared between different genomes."
   ]
  }
 ],
 "metadata": {
  "kernelspec": {
   "display_name": "R",
   "language": "R",
   "name": "ir"
  },
  "language_info": {
   "codemirror_mode": "r",
   "file_extension": ".r",
   "mimetype": "text/x-r-source",
   "name": "R",
   "pygments_lexer": "r",
   "version": "3.6.0"
  }
 },
 "nbformat": 4,
 "nbformat_minor": 2
}
