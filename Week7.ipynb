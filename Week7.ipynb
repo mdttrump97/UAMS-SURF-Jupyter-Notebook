{
 "cells": [
  {
   "cell_type": "markdown",
   "metadata": {},
   "source": [
    "# Week 7\n",
    "## Monday July 1, 2019\n",
    "Today, I reran the medioid dataset analyses using 3-mer counts instead of 4-mer counts. The 3-mer counts did a better job of grouping genes together; using the top 6 most occurrent 3-mers gave 11386 gene groups, with 2182 gene groups representing core genes. This is closer the 2700ish from the 10 genome dataset, but it is still low. \n",
    "\n",
    "Zulema is going to look into the gene groups that I have been generating to see what differences there are between my groups and the gene groups that are given by UCLUST for the 14 medioid genomes. \n",
    "\n",
    "## Tuesday July 2, 2019\n",
    "I am waiting for Zulema to check the groups, so I do not want to generate anymore test data using the same methods. Today, I will try to use principal component analysis/singular value decomposition to reduce the dimensions of my kmer count vectors and see if they still cluster well. "
   ]
  }
 ],
 "metadata": {
  "kernelspec": {
   "display_name": "Python 3",
   "language": "python",
   "name": "python3"
  },
  "language_info": {
   "codemirror_mode": {
    "name": "ipython",
    "version": 3
   },
   "file_extension": ".py",
   "mimetype": "text/x-python",
   "name": "python",
   "nbconvert_exporter": "python",
   "pygments_lexer": "ipython3",
   "version": "3.7.3"
  }
 },
 "nbformat": 4,
 "nbformat_minor": 2
}
