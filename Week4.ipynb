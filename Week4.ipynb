{
 "cells": [
  {
   "cell_type": "markdown",
   "metadata": {},
   "source": [
    "# Week 4\n",
    "## Monday June 10, 2019:\n",
    "* change Multigenome_CSV_generator to make separate top 3 .csv files for each genome, then combine the smaller files together to try to improve runtime. (also run in terminal instead of spyder)\n",
    "\n",
    "I ended up modifying the file inputs and outputs of each program to support compressed file formats. I modified the kmer counting program to output the matrices in matrix market format which stores the coordinates of each data point and the value without storing any of the zeroes from the sparse matrix. Saving and loading these files instead of the large sparse count matrices greatly reduced runtime! \n",
    "\n",
    "## Tuesday June 11, 2019: \n",
    "* uploaded files to a new [github repository](https://github.com/mdttrump97/Kmer_pangenomes)\n",
    "\n",
    "Today I modified the Multigenome CSV generator to output a compressed matrix to be read into the canopy clustering algorithm. This will speed up file transfer between the two programs. Once I got the code working, I generated pangenome gene group summary plots for 10 genomes that were compared using their top 3, 4, and 5 most occurring 4mers. ![comparison](images/w4/10_genome_4mer_comparison.png)\n"
   ]
  },
  {
   "cell_type": "markdown",
   "metadata": {},
   "source": [
    "Grouping using the top 5 genomes had less gene groups, and the number of core gene groups was larger. I will report these groupings to Kaleb and Dr. Ussery and see what my next step should be."
   ]
  },
  {
   "cell_type": "markdown",
   "metadata": {},
   "source": [
    "## Wednesday June 12, 2019:\n",
    "Today, I finally got around to documenting my workflow for testing: ![workflow](images/w4/workflow.png)"
   ]
  },
  {
   "cell_type": "markdown",
   "metadata": {},
   "source": [
    "I need to start paying more attention to the file extensions that I give my files; most of them are just structured text files and not .csv files, but I recorded them in the above diagram how they are written by the programs.\n",
    "\n",
    "To continue developing vector representations for the genomes, I generated amino acid composition plots for the 25 entire genomes that I had been clustering (I made a .gif!!!): \n",
    "<img src=\"images/w4/amino_acid_composition_25_genomes.gif\" width=\"500\"/>\n",
    "Amino acids such as tyrosine, phenylalanine, and histidine are present in low amounts, but are not completely rare in the genomes, so kmers containing these amino acids may be useful for distinguishing genomes. Instead of picking specific amino acids, we decided to try to use charged kmers to cluster the proteins from each genome. All of the charged amino acids (Histidine (H), Lysine (K), Aspartate (D), Glutamate (E), and Arginine (R)) are all moderately used, but not nearly as common as amino acids like Leucine (L), Alanine (A), and Glycine (G). I modified multigenomeCSVGenerator to incorporate the top 3 most occurrent charged k-mers alongside the top 3 most occurrent kmers overall. The code was modified to leave out top x charged kmers that were already top x kmers in general to avoid duplicates, so the vector results for the some sample proteins gave: <img src=\"images/w4/vector_nonduplicate.png\" width = \"600\"/>"
   ]
  },
  {
   "cell_type": "markdown",
   "metadata": {},
   "source": [
    "## Thursday June 13, 2019:\n",
    "Today I worked on sorting the kmer count vectors in a more consistent manner. They are now sorted by count, and then sorted alphabetically where count ties are present. This should hopefully give vectors similar kmers so that the count matrices are less sparse. <img src=\"images/w4/sorted_vectors.png\" width = \"600\" />"
   ]
  },
  {
   "cell_type": "markdown",
   "metadata": {},
   "source": [
    "Another choice that I made for the vector representation is what happens when vectors don't have any kmers containing the selected amino acids? I simply did not add more entries to their vectors. The vectors will be combined into a matrix, and the vectors that have top 3 amino acids but not top 3 selected amino acid kmers will only have values in three dimensions, reflecting that they do not have the selected amino acids in their sequence. Example: <img src=\"images/w4/lack_of_selected_kmers.png\" width = \"600\" />"
   ]
  },
  {
   "cell_type": "markdown",
   "metadata": {},
   "source": [
    "Above, 1_970 did not have any kmers that contained the selected amino acids, so its final vector only had 3 kmers, compared the 6 kmers for 1_971. "
   ]
  },
  {
   "cell_type": "markdown",
   "metadata": {},
   "source": [
    "Next, I clustered 10 genomes using their top 3 (all) and top 3 (FYWH) kmers, and got promising grouping numbers. \n",
    "<img src=\"images/w4/4mer_top3_all_FYWH.png\" width = \"800\" />\n",
    "I then tried clustering the 10 genomes using their top 3 (all) kmers, top 3 (FYWH) kmers, and their top 3 (CM) kmers. I ended up with about the same groupings as the previous graph. \n",
    "<img src=\"images/w4/4mer_top3_all_FYWH_CM.png\" width = \"800\" />"
   ]
  },
  {
   "cell_type": "markdown",
   "metadata": {},
   "source": [
    "## Friday June 14, 2019:\n",
    "I was finally able to group the genes by top 3 and top 3 CM-containg kmers: <img src=\"images/w4/4mer_top3_all_CM.png\" width = \"800\" />"
   ]
  },
  {
   "cell_type": "markdown",
   "metadata": {},
   "source": [
    "I made a graphic depicting all of the 10 geonome runs to compare them: ![comparison](images/w4/grouping_comparison.png)"
   ]
  },
  {
   "cell_type": "markdown",
   "metadata": {},
   "source": [
    "### Results:\n",
    "We are actually pretty close to 3000 core gene groups which is the expected number of core genes for *E. coli* genomes! "
   ]
  }
 ],
 "metadata": {
  "kernelspec": {
   "display_name": "Python 3",
   "language": "python",
   "name": "python3"
  },
  "language_info": {
   "codemirror_mode": {
    "name": "ipython",
    "version": 3
   },
   "file_extension": ".py",
   "mimetype": "text/x-python",
   "name": "python",
   "nbconvert_exporter": "python",
   "pygments_lexer": "ipython3",
   "version": "3.7.3"
  }
 },
 "nbformat": 4,
 "nbformat_minor": 2
}
