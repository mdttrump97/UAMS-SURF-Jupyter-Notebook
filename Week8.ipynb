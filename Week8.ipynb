{
 "cells": [
  {
   "cell_type": "markdown",
   "metadata": {},
   "source": [
    "# Week 8\n",
    "## Monday July 8\n",
    "Kaleb was able to analyze my results against UCLUST clustering on the same dataset, and we discovered 2 key insights about the k-mer approach. \n",
    "\n",
    "**Insight 1**\n",
    "\n",
    "In UCLUST, sequence similarity is calculated by comparing the number of shared characters between the sequences divided by the length of the shorter sequence. This results in cluster membership for short, highly homologous sequences when they closely match a section of a larger sequence. This means that small sequences that seem to be pieces of a larger sequence are clustered together (like comparing a short contig to its consensus sequence), but we have no idea whether this small sequence actually belongs with the larger sequence. Maybe it's just a highly similar domain from one protein that was truncated. With k-mer clustering, the k-mers from the larger sequences are not present in the smaller sequences, so they are split into separate clusters. These differences would effect lots of smaller chunks, so we will come up with a method (post-clustering alignment?) step to group (or not group) these small sequences later. To work on this issue, we are going to try increasing the length of our k-mer count vector to encode more information about sequences to try to reduce the effects of indels that can shorten sequences. \n",
    "\n",
    "**Insight 2**\n",
    "\n",
    "The grouping of sequences is depends highly on the ordering of the input data, because that determines which sequences become cluster centers. Also, our 0.5 threshold is a little restrictive, and similar proteins can be grouped as separate clusters if a different center point is chosen. This point is something we can address now; we will try adjusting our threshold to make clusters less sensitive to gene ordering. "
   ]
  },
  {
   "cell_type": "markdown",
   "metadata": {},
   "source": [
    "## Tuesday July 9\n",
    "We were able to look over more data with our threshold adjusted, and we were able to think of more improvements for the program. The main problem is that points are grouped into the first canopy that they fit into, but not necessarily the best canopy. To solve this, points will only be placed into a canopy if it is the best canopy fit. Next, we wanted to streamline that process, so we decided to precluster point with 0 distance together before clustering the other points.\n",
    "\n",
    "## Wednesday July 10\n",
    "Today I continued to work on modifying canopyClustering.py to implement the improvements suggested on Tuesday.\n"
   ]
  },
  {
   "attachments": {},
   "cell_type": "markdown",
   "metadata": {},
   "source": [
    "## Thursday July 11, and Friday July 12\n",
    "I worked with Kaleb, and he was able to optimize the modifications that I had made to the program to make it run faster. The program quickly ran, and we were able to get 2686 core genes with a 100% core cutoff, and 3108 core genes with a 90% core cutoff! The pan-genome evolution plots also looked great. We then compared these results to the UCLUST run from the same data, and 8219 of the clusters were the same! \n",
    "\n",
    "Pan-genome with 100% cutoff and evo plot:\n",
    "![100](images/w8/medioid_3mers_top_9_ptogether_100core.png)\n",
    "![evo100](images/w8/medioid_3mers_top_9_evo_100core.png)\n",
    "\n",
    "Pan-genome with 90% cutoff and evo plot:\n",
    "![90](images/w8/medioid_3mers_top_9_90core.png)\n",
    "![evo90](images/w8/medioid_3mers_top_9_evo_90core.png)\n",
    "\n",
    "Gene grouping comparison with UCLUST:\n",
    "![comparison](images/w8/UCLUSTComparison.png)"
   ]
  },
  {
   "cell_type": "code",
   "execution_count": null,
   "metadata": {},
   "outputs": [],
   "source": []
  }
 ],
 "metadata": {
  "kernelspec": {
   "display_name": "Python 3",
   "language": "python",
   "name": "python3"
  },
  "language_info": {
   "codemirror_mode": {
    "name": "ipython",
    "version": 3
   },
   "file_extension": ".py",
   "mimetype": "text/x-python",
   "name": "python",
   "nbconvert_exporter": "python",
   "pygments_lexer": "ipython3",
   "version": "3.7.3"
  }
 },
 "nbformat": 4,
 "nbformat_minor": 2
}
